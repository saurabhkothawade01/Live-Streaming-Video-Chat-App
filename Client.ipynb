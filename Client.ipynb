{
 "cells": [
  {
   "cell_type": "code",
   "execution_count": 1,
   "metadata": {},
   "outputs": [],
   "source": [
    "import socket\n",
    "import cv2\n",
    "\n",
    "client_socket  = socket.socket(socket.AF_INET , socket.SOCK_STREAM) \n",
    "\n",
    "IP = \"192.168.184.74\"\n",
    "PORT = 1234\n",
    "\n",
    "client_socket.connect((IP,PORT))\n",
    "\n",
    "cap = cv2.VideoCapture(0)                      \n",
    "\n",
    "while True:                                    \n",
    "    ret, photo = cap.read()                  \n",
    "    cv2.imwrite(\"client_img.jpg\",photo)      \n",
    "    file = open(\"client_img.jpg\",\"rb\")      \n",
    "\n",
    "    img_data = file.read(2048000)                                     \n",
    "    client_socket.send(img_data)              \n",
    "    \n",
    "    cv2.imshow(\"Client\",photo)                \n",
    "    if cv2.waitKey(10) == 13:                  \n",
    "        break\n",
    "    \n",
    "cv2.destroyAllWindows()\n",
    "cap.release()\n",
    "\n",
    "file.close()\n",
    "client_socket.close()"
   ]
  },
  {
   "cell_type": "code",
   "execution_count": null,
   "metadata": {},
   "outputs": [],
   "source": []
  }
 ],
 "metadata": {
  "kernelspec": {
   "display_name": "Python 3",
   "language": "python",
   "name": "python3"
  },
  "language_info": {
   "codemirror_mode": {
    "name": "ipython",
    "version": 3
   },
   "file_extension": ".py",
   "mimetype": "text/x-python",
   "name": "python",
   "nbconvert_exporter": "python",
   "pygments_lexer": "ipython3",
   "version": "3.8.3"
  }
 },
 "nbformat": 4,
 "nbformat_minor": 4
}
