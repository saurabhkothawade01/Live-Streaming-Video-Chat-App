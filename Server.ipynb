{
 "cells": [
  {
   "cell_type": "code",
   "execution_count": null,
   "metadata": {},
   "outputs": [],
   "source": [
    "import socket\n",
    "import cv2\n",
    "\n",
    "server_socket = socket.socket(socket.AF_INET, socket.SOCK_STREAM)\n",
    "\n",
    "ip = \"192.168.184.74\"\n",
    "port = 1234\n",
    "\n",
    "server_socket.bind( ( ip, port ) )\n",
    "server_socket.listen()\n",
    "c, addr = server_socket.accept()\n",
    "\n",
    "while True:\n",
    "    server_img = open(\"server_img.jpg\", \"wb\")\n",
    "    img = c.recv(2048000)\n",
    "    if img:\n",
    "        \n",
    "        server_img.write(img)\n",
    "        pic = cv2.imread(\"server_img.jpg\")\n",
    "        cv2.imshow(\"Server side\", pic)\n",
    "        if cv2.waitKey(10) == 13:\n",
    "            break\n",
    "\n",
    "cv2.destroyAllWindows()\n",
    "c.close()\n",
    "server_img.close()"
   ]
  },
  {
   "cell_type": "code",
   "execution_count": null,
   "metadata": {},
   "outputs": [],
   "source": []
  }
 ],
 "metadata": {
  "kernelspec": {
   "display_name": "Python 3",
   "language": "python",
   "name": "python3"
  },
  "language_info": {
   "codemirror_mode": {
    "name": "ipython",
    "version": 3
   },
   "file_extension": ".py",
   "mimetype": "text/x-python",
   "name": "python",
   "nbconvert_exporter": "python",
   "pygments_lexer": "ipython3",
   "version": "3.8.3"
  }
 },
 "nbformat": 4,
 "nbformat_minor": 4
}
